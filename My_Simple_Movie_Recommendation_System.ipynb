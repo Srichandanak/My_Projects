{
  "nbformat": 4,
  "nbformat_minor": 0,
  "metadata": {
    "colab": {
      "provenance": [],
      "mount_file_id": "1AOOXbVSoHRSKJMDQZBlJAnzB38OXLvfZ",
      "authorship_tag": "ABX9TyP0BQ4OSDKFzi4jskpVNGm5",
      "include_colab_link": true
    },
    "kernelspec": {
      "name": "python3",
      "display_name": "Python 3"
    },
    "language_info": {
      "name": "python"
    }
  },
  "cells": [
    {
      "cell_type": "markdown",
      "metadata": {
        "id": "view-in-github",
        "colab_type": "text"
      },
      "source": [
        "<a href=\"https://colab.research.google.com/github/Srichandanak/sdp/blob/main/My_Movie_Recommendation_System.ipynb\" target=\"_parent\"><img src=\"https://colab.research.google.com/assets/colab-badge.svg\" alt=\"Open In Colab\"/></a>"
      ]
    },
    {
      "cell_type": "code",
      "execution_count": 1,
      "metadata": {
        "colab": {
          "base_uri": "https://localhost:8080/"
        },
        "id": "lThKpKxSpihZ",
        "outputId": "8c97102e-cfd6-4eb9-8cac-bdac6229a7a1",
        "collapsed": true
      },
      "outputs": [
        {
          "output_type": "stream",
          "name": "stdout",
          "text": [
            "Drive already mounted at /content/drive; to attempt to forcibly remount, call drive.mount(\"/content/drive\", force_remount=True).\n"
          ]
        }
      ],
      "source": [
        "from google.colab import drive\n",
        "drive.mount('/content/drive')"
      ]
    },
    {
      "cell_type": "code",
      "source": [
        "!pip install pandas\n",
        "import pandas as pd"
      ],
      "metadata": {
        "colab": {
          "base_uri": "https://localhost:8080/"
        },
        "id": "eN_9hj-t0jWg",
        "outputId": "101fb091-48c5-46b6-ac53-0ca57abfc470"
      },
      "execution_count": 2,
      "outputs": [
        {
          "output_type": "stream",
          "name": "stdout",
          "text": [
            "Requirement already satisfied: pandas in /usr/local/lib/python3.10/dist-packages (2.0.3)\n",
            "Requirement already satisfied: python-dateutil>=2.8.2 in /usr/local/lib/python3.10/dist-packages (from pandas) (2.8.2)\n",
            "Requirement already satisfied: pytz>=2020.1 in /usr/local/lib/python3.10/dist-packages (from pandas) (2023.4)\n",
            "Requirement already satisfied: tzdata>=2022.1 in /usr/local/lib/python3.10/dist-packages (from pandas) (2024.1)\n",
            "Requirement already satisfied: numpy>=1.21.0 in /usr/local/lib/python3.10/dist-packages (from pandas) (1.25.2)\n",
            "Requirement already satisfied: six>=1.5 in /usr/local/lib/python3.10/dist-packages (from python-dateutil>=2.8.2->pandas) (1.16.0)\n"
          ]
        }
      ]
    },
    {
      "cell_type": "code",
      "source": [
        "import numpy as np\n",
        "# Load and clean the data\n",
        "bolly_df = pd.read_csv('/content/drive/MyDrive/bollywood_meta_2010-2019.csv')\n",
        "bolly_df.drop(columns=[\"Unnamed: 0\"], inplace=True, errors='ignore')\n",
        "bolly_df.fillna('True', inplace=True)  # Example: fill unnamed columns with 'True'\n",
        "bolly_df.columns = [col if not col.startswith('Unnamed') else 'appropriate_name' for col in bolly_df.columns]\n",
        "bolly_df.replace('\\\\N', np.nan, inplace=True)\n",
        "bolly_df.dropna(inplace=True)\n",
        "# Display cleaned DataFrame\n",
        "print(bolly_df)"
      ],
      "metadata": {
        "colab": {
          "base_uri": "https://localhost:8080/"
        },
        "id": "GFF_H9ZV0uzI",
        "outputId": "72831479-750b-41d4-e834-1f09464ea14d"
      },
      "execution_count": 4,
      "outputs": [
        {
          "output_type": "stream",
          "name": "stdout",
          "text": [
            "       imdb_id                      title             original_title  \\\n",
            "0    tt0073707                     Sholay                     Sholay   \n",
            "1    tt0246825               Om Dar-B-Dar               Om Dar-B-Dar   \n",
            "2    tt0403935             Action Jackson             Action Jackson   \n",
            "3    tt0443331            Milenge Milenge            Milenge Milenge   \n",
            "4    tt0839742  Bhopal: A Prayer for Rain  Bhopal: A Prayer for Rain   \n",
            "..         ...                        ...                        ...   \n",
            "921  tt9420648                       Bala                       Bala   \n",
            "922  tt9472208              Battalion 609              Battalion 609   \n",
            "924  tt9496212                   22 Yards                   22 Yards   \n",
            "925  tt9558612           PM Narendra Modi           PM Narendra Modi   \n",
            "928  tt9795264                  Risknamaa                  Risknamaa   \n",
            "\n",
            "     is_adult year_of_release runtime                   genres  \n",
            "0           0            1975     198  Action|Adventure|Comedy  \n",
            "1           0            1988     101                    Drama  \n",
            "2           0            2014     144          Action|Thriller  \n",
            "3           0            2010     109            Drama|Romance  \n",
            "4           0            2014      96                    Drama  \n",
            "..        ...             ...     ...                      ...  \n",
            "921         0            2019     133                   Comedy  \n",
            "922         0            2019     131                      War  \n",
            "924         0            2019     126                    Sport  \n",
            "925         0            2019     136          Biography|Drama  \n",
            "928         0            2019     123                 Thriller  \n",
            "\n",
            "[871 rows x 7 columns]\n"
          ]
        }
      ]
    },
    {
      "cell_type": "code",
      "source": [
        "# Add age of cinema\n",
        "from datetime import datetime\n",
        "year = datetime.now().year\n",
        "\n",
        "bolly_df['year_of_release'] = pd.to_numeric(bolly_df['year_of_release'], errors='coerce')\n",
        "bolly_df['ageofcinema'] = year - bolly_df['year_of_release']\n",
        "\n"
      ],
      "metadata": {
        "id": "KTzHTJby0uvu"
      },
      "execution_count": 5,
      "outputs": []
    },
    {
      "cell_type": "code",
      "source": [
        "# One-hot encode genres\n",
        "bolly_df_gen = bolly_df['genres'].str.get_dummies(sep='|')\n",
        "bolly_df = pd.concat([bolly_df, bolly_df_gen], axis=1)\n",
        "bolly_df.drop('genres', inplace=True, axis=1)\n"
      ],
      "metadata": {
        "id": "KSj3I83_0utp"
      },
      "execution_count": 6,
      "outputs": []
    },
    {
      "cell_type": "code",
      "source": [
        "age_groups = [17, 26, 35, 42, 50]\n",
        "\n",
        "# Initialize all age group columns with False\n",
        "for i, age in enumerate(age_groups):\n",
        "    if i == 0:\n",
        "        bolly_df[f'agegrp_{age}'] = bolly_df['ageofcinema'] <= age\n",
        "    else:\n",
        "        bolly_df[f'agegrp_{age}'] = (bolly_df['ageofcinema'] > age_groups[i-1]) & (bolly_df['ageofcinema'] <= age)\n"
      ],
      "metadata": {
        "id": "ctwlYreG0urQ"
      },
      "execution_count": 7,
      "outputs": []
    },
    {
      "cell_type": "code",
      "source": [
        "from sklearn.ensemble import RandomForestClassifier\n",
        "from sklearn.multioutput import MultiOutputClassifier\n",
        "\n",
        "# Define features and target variable, exclude 'title' from features\n",
        "features = bolly_df[['ageofcinema', 'Action', 'Adventure', 'Animation', 'Biography',\n",
        "                     'Comedy', 'Crime', 'Documentary', 'Drama', 'Family', 'Fantasy',\n",
        "                     'History', 'Horror', 'Music', 'Musical', 'Mystery', 'Romance',\n",
        "                     'Sci-Fi', 'Sport', 'Thriller', 'War','agegrp_17','agegrp_26','agegrp_35','agegrp_42','agegrp_50']]\n",
        "target = bolly_df[['agegrp_17','agegrp_26','agegrp_35','agegrp_42','agegrp_50']]\n",
        "\n"
      ],
      "metadata": {
        "id": "qYzdztNh0uo3"
      },
      "execution_count": 8,
      "outputs": []
    },
    {
      "cell_type": "code",
      "source": [
        "from sklearn.model_selection import train_test_split\n",
        "# Split the data\n",
        "X_train, X_test, y_train, y_test = train_test_split(features, target, test_size=0.2, random_state=42)\n",
        "\n"
      ],
      "metadata": {
        "id": "Tb9BC8Q60umC"
      },
      "execution_count": 9,
      "outputs": []
    },
    {
      "cell_type": "code",
      "source": [
        "# Initialize and train the MultiOutput Random Forest model\n",
        "rf_model = MultiOutputClassifier(RandomForestClassifier(n_estimators=100, random_state=42))\n",
        "rf_model.fit(X_train, y_train)\n"
      ],
      "metadata": {
        "colab": {
          "base_uri": "https://localhost:8080/",
          "height": 117
        },
        "id": "TGww9aiF0ujb",
        "outputId": "c167ff7a-4a52-45b6-c3fb-816c3ced84f5"
      },
      "execution_count": 10,
      "outputs": [
        {
          "output_type": "execute_result",
          "data": {
            "text/plain": [
              "MultiOutputClassifier(estimator=RandomForestClassifier(random_state=42))"
            ],
            "text/html": [
              "<style>#sk-container-id-1 {color: black;background-color: white;}#sk-container-id-1 pre{padding: 0;}#sk-container-id-1 div.sk-toggleable {background-color: white;}#sk-container-id-1 label.sk-toggleable__label {cursor: pointer;display: block;width: 100%;margin-bottom: 0;padding: 0.3em;box-sizing: border-box;text-align: center;}#sk-container-id-1 label.sk-toggleable__label-arrow:before {content: \"▸\";float: left;margin-right: 0.25em;color: #696969;}#sk-container-id-1 label.sk-toggleable__label-arrow:hover:before {color: black;}#sk-container-id-1 div.sk-estimator:hover label.sk-toggleable__label-arrow:before {color: black;}#sk-container-id-1 div.sk-toggleable__content {max-height: 0;max-width: 0;overflow: hidden;text-align: left;background-color: #f0f8ff;}#sk-container-id-1 div.sk-toggleable__content pre {margin: 0.2em;color: black;border-radius: 0.25em;background-color: #f0f8ff;}#sk-container-id-1 input.sk-toggleable__control:checked~div.sk-toggleable__content {max-height: 200px;max-width: 100%;overflow: auto;}#sk-container-id-1 input.sk-toggleable__control:checked~label.sk-toggleable__label-arrow:before {content: \"▾\";}#sk-container-id-1 div.sk-estimator input.sk-toggleable__control:checked~label.sk-toggleable__label {background-color: #d4ebff;}#sk-container-id-1 div.sk-label input.sk-toggleable__control:checked~label.sk-toggleable__label {background-color: #d4ebff;}#sk-container-id-1 input.sk-hidden--visually {border: 0;clip: rect(1px 1px 1px 1px);clip: rect(1px, 1px, 1px, 1px);height: 1px;margin: -1px;overflow: hidden;padding: 0;position: absolute;width: 1px;}#sk-container-id-1 div.sk-estimator {font-family: monospace;background-color: #f0f8ff;border: 1px dotted black;border-radius: 0.25em;box-sizing: border-box;margin-bottom: 0.5em;}#sk-container-id-1 div.sk-estimator:hover {background-color: #d4ebff;}#sk-container-id-1 div.sk-parallel-item::after {content: \"\";width: 100%;border-bottom: 1px solid gray;flex-grow: 1;}#sk-container-id-1 div.sk-label:hover label.sk-toggleable__label {background-color: #d4ebff;}#sk-container-id-1 div.sk-serial::before {content: \"\";position: absolute;border-left: 1px solid gray;box-sizing: border-box;top: 0;bottom: 0;left: 50%;z-index: 0;}#sk-container-id-1 div.sk-serial {display: flex;flex-direction: column;align-items: center;background-color: white;padding-right: 0.2em;padding-left: 0.2em;position: relative;}#sk-container-id-1 div.sk-item {position: relative;z-index: 1;}#sk-container-id-1 div.sk-parallel {display: flex;align-items: stretch;justify-content: center;background-color: white;position: relative;}#sk-container-id-1 div.sk-item::before, #sk-container-id-1 div.sk-parallel-item::before {content: \"\";position: absolute;border-left: 1px solid gray;box-sizing: border-box;top: 0;bottom: 0;left: 50%;z-index: -1;}#sk-container-id-1 div.sk-parallel-item {display: flex;flex-direction: column;z-index: 1;position: relative;background-color: white;}#sk-container-id-1 div.sk-parallel-item:first-child::after {align-self: flex-end;width: 50%;}#sk-container-id-1 div.sk-parallel-item:last-child::after {align-self: flex-start;width: 50%;}#sk-container-id-1 div.sk-parallel-item:only-child::after {width: 0;}#sk-container-id-1 div.sk-dashed-wrapped {border: 1px dashed gray;margin: 0 0.4em 0.5em 0.4em;box-sizing: border-box;padding-bottom: 0.4em;background-color: white;}#sk-container-id-1 div.sk-label label {font-family: monospace;font-weight: bold;display: inline-block;line-height: 1.2em;}#sk-container-id-1 div.sk-label-container {text-align: center;}#sk-container-id-1 div.sk-container {/* jupyter's `normalize.less` sets `[hidden] { display: none; }` but bootstrap.min.css set `[hidden] { display: none !important; }` so we also need the `!important` here to be able to override the default hidden behavior on the sphinx rendered scikit-learn.org. See: https://github.com/scikit-learn/scikit-learn/issues/21755 */display: inline-block !important;position: relative;}#sk-container-id-1 div.sk-text-repr-fallback {display: none;}</style><div id=\"sk-container-id-1\" class=\"sk-top-container\"><div class=\"sk-text-repr-fallback\"><pre>MultiOutputClassifier(estimator=RandomForestClassifier(random_state=42))</pre><b>In a Jupyter environment, please rerun this cell to show the HTML representation or trust the notebook. <br />On GitHub, the HTML representation is unable to render, please try loading this page with nbviewer.org.</b></div><div class=\"sk-container\" hidden><div class=\"sk-item sk-dashed-wrapped\"><div class=\"sk-label-container\"><div class=\"sk-label sk-toggleable\"><input class=\"sk-toggleable__control sk-hidden--visually\" id=\"sk-estimator-id-1\" type=\"checkbox\" ><label for=\"sk-estimator-id-1\" class=\"sk-toggleable__label sk-toggleable__label-arrow\">MultiOutputClassifier</label><div class=\"sk-toggleable__content\"><pre>MultiOutputClassifier(estimator=RandomForestClassifier(random_state=42))</pre></div></div></div><div class=\"sk-parallel\"><div class=\"sk-parallel-item\"><div class=\"sk-item\"><div class=\"sk-label-container\"><div class=\"sk-label sk-toggleable\"><input class=\"sk-toggleable__control sk-hidden--visually\" id=\"sk-estimator-id-2\" type=\"checkbox\" ><label for=\"sk-estimator-id-2\" class=\"sk-toggleable__label sk-toggleable__label-arrow\">estimator: RandomForestClassifier</label><div class=\"sk-toggleable__content\"><pre>RandomForestClassifier(random_state=42)</pre></div></div></div><div class=\"sk-serial\"><div class=\"sk-item\"><div class=\"sk-estimator sk-toggleable\"><input class=\"sk-toggleable__control sk-hidden--visually\" id=\"sk-estimator-id-3\" type=\"checkbox\" ><label for=\"sk-estimator-id-3\" class=\"sk-toggleable__label sk-toggleable__label-arrow\">RandomForestClassifier</label><div class=\"sk-toggleable__content\"><pre>RandomForestClassifier(random_state=42)</pre></div></div></div></div></div></div></div></div></div></div>"
            ]
          },
          "metadata": {},
          "execution_count": 10
        }
      ]
    },
    {
      "cell_type": "code",
      "source": [
        "from sklearn.metrics import accuracy_score, classification_report\n",
        "# Evaluate the model\n",
        "y_pred = rf_model.predict(X_test)\n",
        "accuracy = accuracy_score(y_test, y_pred)\n",
        "report = classification_report(y_test, y_pred, zero_division=0)\n",
        "print(f'Accuracy: {accuracy}')\n",
        "print(f'Classification Report:\\n{report}')\n"
      ],
      "metadata": {
        "colab": {
          "base_uri": "https://localhost:8080/"
        },
        "id": "zpvCZo5C0ug7",
        "outputId": "2e046de8-59ff-4543-e23a-bae7d705c458"
      },
      "execution_count": 11,
      "outputs": [
        {
          "output_type": "stream",
          "name": "stdout",
          "text": [
            "Accuracy: 1.0\n",
            "Classification Report:\n",
            "              precision    recall  f1-score   support\n",
            "\n",
            "           0       1.00      1.00      1.00       175\n",
            "           1       0.00      0.00      0.00         0\n",
            "           2       0.00      0.00      0.00         0\n",
            "           3       0.00      0.00      0.00         0\n",
            "           4       0.00      0.00      0.00         0\n",
            "\n",
            "   micro avg       1.00      1.00      1.00       175\n",
            "   macro avg       0.20      0.20      0.20       175\n",
            "weighted avg       1.00      1.00      1.00       175\n",
            " samples avg       1.00      1.00      1.00       175\n",
            "\n"
          ]
        }
      ]
    },
    {
      "cell_type": "code",
      "source": [
        "# Define function to get feature columns (excluding title)\n",
        "def get_feature_columns():\n",
        "    feature_columns = [\n",
        "        'ageofcinema', 'Action', 'Adventure', 'Animation', 'Biography',\n",
        "        'Comedy', 'Crime', 'Documentary', 'Drama', 'Family', 'Fantasy',\n",
        "        'History', 'Horror', 'Music', 'Musical', 'Mystery', 'Romance',\n",
        "        'Sci-Fi', 'Sport', 'Thriller', 'War', 'agegrp_17', 'agegrp_26',\n",
        "        'agegrp_35', 'agegrp_42', 'agegrp_50'\n",
        "    ]\n",
        "    return feature_columns\n"
      ],
      "metadata": {
        "id": "LhbnaOHd0uJ7"
      },
      "execution_count": 12,
      "outputs": []
    },
    {
      "cell_type": "code",
      "source": [
        "# Define function to create user input DataFrame\n",
        "def create_user_df(age, genres, feature_columns):\n",
        "    user_input = {col: [0] for col in feature_columns}\n",
        "    user_input['ageofcinema'] = [age]\n",
        "    for genre in genres:\n",
        "        if genre in user_input:\n",
        "            user_input[genre] = [1]\n",
        "    # Calculate age groups\n",
        "    age_groups = [17, 26, 35, 42, 50]\n",
        "    for age_group in age_groups:\n",
        "        user_input[f'agegrp_{age_group}'] = [age <= age_group]\n",
        "    user_df = pd.DataFrame(user_input)\n",
        "    return user_df\n"
      ],
      "metadata": {
        "id": "5h8K7UFI2GVc"
      },
      "execution_count": 13,
      "outputs": []
    },
    {
      "cell_type": "code",
      "source": [
        "def recommend_movies(model, age, genres, original_df):\n",
        "    feature_columns = get_feature_columns()\n",
        "    user_df = create_user_df(age, genres, feature_columns)\n",
        "    # Predict probabilities for each age group\n",
        "    predictions = model.predict_proba(user_df)\n",
        "\n",
        "    # Initialize variables to store recommendations\n",
        "    recommended_movies = []\n",
        "    for idx, age_group in enumerate(age_groups):\n",
        "        # Filter original dataframe based on genres\n",
        "        filtered_df = original_df.copy()\n",
        "        for genre in genres:\n",
        "            if genre in filtered_df:\n",
        "                filtered_df = filtered_df[filtered_df[genre] == 1]\n",
        "                 #Determine the age group based on the given age\n",
        "    if age <= 17:\n",
        "        age_group_col = 'agegrp_17'\n",
        "    elif age <= 26:\n",
        "        age_group_col = 'agegrp_26'\n",
        "    elif age <= 35:\n",
        "        age_group_col = 'agegrp_35'\n",
        "    elif age <= 42:\n",
        "        age_group_col = 'agegrp_42'\n",
        "    else:\n",
        "        age_group_col = 'agegrp_50'\n",
        "    for i in range(5):  # Assuming you want to iterate up to 5 times\n",
        "        filtered_df = filtered_df[filtered_df[age_group_col] == True]\n",
        "        filtered_df = filtered_df.sort_values(by='ageofcinema', ascending=True)\n",
        "        if not filtered_df.empty:\n",
        "            recommended_movies.extend(filtered_df.iloc[:n, filtered_df.columns.get_loc('title')].tolist())\n",
        "# Stop once we have enough recommendations\n",
        "            if len(recommended_movies) >= n:\n",
        "                recommended_movies = recommended_movies[:n]  # Limit to 'n' recommendations\n",
        "                break\n",
        "        else:\n",
        "          for idx, age_group in enumerate(age_groups):\n",
        "# Filter original dataframe based on genres\n",
        "                filtered_df = original_df.copy()\n",
        "                for genre in genres:\n",
        "                     if genre in filtered_df:\n",
        "                            filtered_df = filtered_df[filtered_df[genre] == 1]\n",
        "                            filtered_df = filtered_df.sort_values(by='ageofcinema', ascending=True)\n",
        "                            recommended_movies.extend(filtered_df.iloc[:n, filtered_df.columns.get_loc('title')].tolist())\n",
        "                     if len(recommended_movies) >= n:\n",
        "                           recommended_movies = recommended_movies[:n]  # Limit to 'n' recommendations\n",
        "                           #recommended_movies.sort(by='ageofcinema',ascending=True)\n",
        "                           break\n",
        "    return recommended_movies\n",
        "\n"
      ],
      "metadata": {
        "id": "jGD-Nrb22J7u"
      },
      "execution_count": 20,
      "outputs": []
    },
    {
      "cell_type": "code",
      "source": [
        "age = int(input())\n",
        "preferred_genres = input().strip().split(\",\")\n",
        "n = 100\n",
        "\n",
        "print(\"\\nRecommended Movies:\")\n",
        "recommended_movie_list = recommend_movies(rf_model, age, preferred_genres, bolly_df)\n",
        "print(*recommended_movie_list,sep=\"\\n\")\n"
      ],
      "metadata": {
        "colab": {
          "base_uri": "https://localhost:8080/"
        },
        "id": "YuFxeEWs2PTx",
        "outputId": "c482d380-f592-4a7a-a3ea-788e46f2d8eb"
      },
      "execution_count": 24,
      "outputs": [
        {
          "output_type": "stream",
          "name": "stdout",
          "text": [
            "25\n",
            "Comedy\n",
            "\n",
            "Recommended Movies:\n",
            "Bala\n",
            "Fraud Saiyaan\n",
            "Bombairiya\n",
            "Total Dhamaal\n",
            "Housefull 4\n",
            "Arjun Patiala\n",
            "Judgementall Hai Kya\n",
            "Jhootha Kahin Ka\n",
            "The Zoya Factor\n",
            "Dream Girl\n",
            "Jabariya Jodi\n",
            "De De Pyaar De\n",
            "Made in China\n",
            "Ujda Chaman\n",
            "Motichoor Chaknachoor\n",
            "Ishqeria\n",
            "Veerey Ki Wedding\n",
            "Hope Aur Hum\n",
            "Simmba\n",
            "Made in India\n",
            "Phamous\n",
            "Nanu Ki Jaanu\n",
            "Rajma Chawal\n",
            "5 Weddings\n",
            "Hichki\n",
            "Zero\n",
            "Jack & Dil\n",
            "Brother Superhit!\n",
            "FryDay\n",
            "Khajoor Pe Atke\n",
            "Sonu Ke Titu Ki Sweety\n",
            "Pataakha\n",
            "High Jack\n",
            "Kaalakaandi\n",
            "Prince's Son\n",
            "Mard Ko Dard Nahin Hota\n",
            "Karwaan\n",
            "Happy Phirr Bhag Jayegi\n",
            "Stree\n",
            "Dil Juunglee\n",
            "Namaste England\n",
            "Badhaai Ho\n",
            "Mitron\n",
            "Dhadak\n",
            "Yamla Pagla Deewana Phir Se...\n",
            "Love Per Square Foot\n",
            "Jab Harry Met Sejal\n",
            "Toilet - Ek Prem Katha\n",
            "Noor\n",
            "Hindi Medium\n",
            "Jagga Jasoos\n",
            "A Gentleman\n",
            "Phillauri\n",
            "Meri Pyaari Bindu\n",
            "Twins 2\n",
            "Bank Chor\n",
            "Chef\n",
            "Sweetiee Weds NRI\n",
            "Patel Ki Punjabi Shaadi\n",
            "Hind Ka Napak Ko Jawab\n",
            "Tumhari Sulu\n",
            "Bhanwarey\n",
            "Golmaal Again\n",
            "Bareilly Ki Barfi\n",
            "Behen Hogi Teri\n",
            "Long Live Brij Mohan\n",
            "Fukrey Returns\n",
            "Poster Boys\n",
            "Coffee with D\n",
            "Jattu Engineer\n",
            "Running Shaadi\n",
            "Shubh Mangal Saavdhan\n",
            "Badrinath Ki Dulhania\n",
            "Mubarakan\n",
            "Qarib Qarib Singlle\n",
            "Guest iin London\n",
            "Firangi\n",
            "Kapow\n",
            "Fuddu\n",
            "Santa Banta Pvt Ltd\n",
            "Direct Ishq\n",
            "Great Grand Masti\n",
            "Ki & Ka\n",
            "Kapoor & Sons\n",
            "Mastizaade\n",
            "Tutak Tutak Tutiya\n",
            "Love Shagun\n",
            "Befikre\n",
            "Hotel Salvation\n",
            "Freaky Ali\n",
            "Days of Tafree\n",
            "Motu Patlu: King of Kings\n",
            "Hai Apna Dil Toh Awara\n",
            "Saat Uchakkey\n",
            "Tere Bin Laden: Dead Or Alive\n",
            "Kyaa Kool Hain Hum 3\n",
            "Brahman Naman\n",
            "A Flying Jatt\n",
            "Happy Bhag Jayegi\n",
            "Baar Baar Dekho\n"
          ]
        }
      ]
    }
  ]
}
